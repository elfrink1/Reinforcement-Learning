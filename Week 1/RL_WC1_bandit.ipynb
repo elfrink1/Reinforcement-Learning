{
 "cells": [
  {
   "cell_type": "code",
   "execution_count": null,
   "source": [
    "import numpy as np\r\n",
    "import sys \r\n",
    "\r\n",
    "assert sys.version_info[:3] >= (3, 6, 0), \"Make sure you have Python 3.6 installed!\""
   ],
   "outputs": [],
   "metadata": {
    "deletable": false,
    "editable": false,
    "nbgrader": {
     "checksum": "8760cdd25838cc879d075523dab9826c",
     "grade": false,
     "grade_id": "cell-cf757d55465d34ec",
     "locked": true,
     "schema_version": 1,
     "solution": false
    }
   }
  },
  {
   "cell_type": "markdown",
   "source": [
    "## The Multi-armed bandit problem\n",
    "Imagine you're faced with a number of slot machines (also called 'bandits'), each with a lever ('arm') to pull. Upon pulling a particular lever, it will give a random reward from an unknown distribution particular to that lever. The goal of the multi-armed bandit (MAB) problem, is to maximise your total reward given that you are allowed to pull levers a fixed number of times total (this is called your 'budget').\n",
    "\n",
    "A basic strategy might be to spend some of your budget pulling different levers to get an idea of which levers give the most reward ('exploration'). After this, you may choose increasingly often pull the lever that you expect gives the most reward ('exploitation'). The question then is: how much exploration and how much exploitation makes the optimal strategy? This 'exploration-exploitation trade-off' is a classic feature of reinforcement learning problems: we have to interact with the environment to gather data, and we must choose an optimal way of interacting on the fly. \n",
    "\n",
    "This notebook provides a MAB environment to interact with. Spend some time pulling levers to get a feeling for the problem (see cells below)."
   ],
   "metadata": {
    "deletable": false,
    "editable": false,
    "nbgrader": {
     "checksum": "41a4867ada0790944d003892e913f8ac",
     "grade": false,
     "grade_id": "cell-33c0d426515d5c1b",
     "locked": true,
     "schema_version": 1,
     "solution": false
    }
   }
  },
  {
   "cell_type": "code",
   "execution_count": null,
   "source": [
    "# A bandit gives a random reward from a particular Gaussian distribution.\r\n",
    "class Bandit:\r\n",
    "    def __init__(self, mean, std):\r\n",
    "        self.mean = mean\r\n",
    "        self.std = std\r\n",
    "        \r\n",
    "    def sample(self):\r\n",
    "        return np.random.normal(self.mean, self.std)"
   ],
   "outputs": [],
   "metadata": {
    "deletable": false,
    "editable": false,
    "nbgrader": {
     "checksum": "2363716f89f42b739db88c2169e91792",
     "grade": false,
     "grade_id": "cell-44280a71d447cc9b",
     "locked": true,
     "schema_version": 1,
     "solution": false
    }
   }
  },
  {
   "cell_type": "code",
   "execution_count": 8,
   "source": [
    "class MultiArmedBandit:\r\n",
    "    def __init__(self, num_arms=10, means=None, stds=None):\r\n",
    "        if means is None:\r\n",
    "            self.means = np.random.uniform(0, 5, num_arms)\r\n",
    "        else:\r\n",
    "            self.means = means\r\n",
    "        if stds is None:\r\n",
    "            self.stds = np.random.uniform(0, 3, num_arms)\r\n",
    "        else:\r\n",
    "            self.stds = stds \r\n",
    "        self.bandits = [Bandit(mean, std) for mean, std in zip(self.means, self.stds)]\r\n",
    "        self.arms_pulled = np.zeros(num_arms, dtype=int)\r\n",
    "        self.arms_rewards = np.zeros(num_arms)\r\n",
    "        self.num_arms = num_arms\r\n",
    "        \r\n",
    "    def reset(self):\r\n",
    "        self.__init__(self.num_arms, self.means, self.stds)\r\n",
    "        \r\n",
    "    def sample(self, i):\r\n",
    "        reward = self.bandits[i].sample()\r\n",
    "        self.arms_pulled[i] += 1\r\n",
    "        self.arms_rewards[i] += reward\r\n",
    "        return reward\r\n",
    "    \r\n",
    "    def get_state(self):\r\n",
    "        return self.arms_rewards, self.arms_pulled"
   ],
   "outputs": [],
   "metadata": {}
  },
  {
   "cell_type": "markdown",
   "source": [
    "### Get a feeling\n",
    "Play around with the arms for a minute by running the cell below."
   ],
   "metadata": {
    "deletable": false,
    "editable": false,
    "nbgrader": {
     "checksum": "23b49e7e061436bf569e3b311dbb553c",
     "grade": false,
     "grade_id": "cell-988e898278d87b8f",
     "locked": true,
     "schema_version": 1,
     "solution": false
    }
   }
  },
  {
   "cell_type": "code",
   "execution_count": 9,
   "source": [
    "# Simple example interaction \r\n",
    "num_arms = 4\r\n",
    "mab = MultiArmedBandit(num_arms)\r\n",
    "for _ in range(10):\r\n",
    "    arm = int(input(f\"Choose an arm to pull [0-{num_arms-1}]:\"))\r\n",
    "    assert arm >=0 and arm < num_arms, f\"Arm must be an integer in the interval [0, {num_arms - 1}] inclusive.\"\r\n",
    "    print(\" Reward: {:.3f}\".format(mab.sample(arm)))"
   ],
   "outputs": [
    {
     "output_type": "error",
     "ename": "ValueError",
     "evalue": "invalid literal for int() with base 10: ''",
     "traceback": [
      "\u001b[1;31m---------------------------------------------------------------------------\u001b[0m",
      "\u001b[1;31mValueError\u001b[0m                                Traceback (most recent call last)",
      "\u001b[1;32m~\\AppData\\Local\\Temp/ipykernel_14196/3065010912.py\u001b[0m in \u001b[0;36m<module>\u001b[1;34m\u001b[0m\n\u001b[0;32m      3\u001b[0m \u001b[0mmab\u001b[0m \u001b[1;33m=\u001b[0m \u001b[0mMultiArmedBandit\u001b[0m\u001b[1;33m(\u001b[0m\u001b[0mnum_arms\u001b[0m\u001b[1;33m)\u001b[0m\u001b[1;33m\u001b[0m\u001b[1;33m\u001b[0m\u001b[0m\n\u001b[0;32m      4\u001b[0m \u001b[1;32mfor\u001b[0m \u001b[0m_\u001b[0m \u001b[1;32min\u001b[0m \u001b[0mrange\u001b[0m\u001b[1;33m(\u001b[0m\u001b[1;36m10\u001b[0m\u001b[1;33m)\u001b[0m\u001b[1;33m:\u001b[0m\u001b[1;33m\u001b[0m\u001b[1;33m\u001b[0m\u001b[0m\n\u001b[1;32m----> 5\u001b[1;33m     \u001b[0marm\u001b[0m \u001b[1;33m=\u001b[0m \u001b[0mint\u001b[0m\u001b[1;33m(\u001b[0m\u001b[0minput\u001b[0m\u001b[1;33m(\u001b[0m\u001b[1;34mf\"Choose an arm to pull [0-{num_arms-1}]: \"\u001b[0m\u001b[1;33m)\u001b[0m\u001b[1;33m)\u001b[0m\u001b[1;33m\u001b[0m\u001b[1;33m\u001b[0m\u001b[0m\n\u001b[0m\u001b[0;32m      6\u001b[0m     \u001b[1;32massert\u001b[0m \u001b[0marm\u001b[0m \u001b[1;33m>=\u001b[0m\u001b[1;36m0\u001b[0m \u001b[1;32mand\u001b[0m \u001b[0marm\u001b[0m \u001b[1;33m<\u001b[0m \u001b[0mnum_arms\u001b[0m\u001b[1;33m,\u001b[0m \u001b[1;34mf\"Arm must be an integer in the interval [0, {num_arms - 1}] inclusive.\"\u001b[0m\u001b[1;33m\u001b[0m\u001b[1;33m\u001b[0m\u001b[0m\n\u001b[0;32m      7\u001b[0m     \u001b[0mprint\u001b[0m\u001b[1;33m(\u001b[0m\u001b[1;34m\" Reward: {:.3f}\"\u001b[0m\u001b[1;33m.\u001b[0m\u001b[0mformat\u001b[0m\u001b[1;33m(\u001b[0m\u001b[0mmab\u001b[0m\u001b[1;33m.\u001b[0m\u001b[0msample\u001b[0m\u001b[1;33m(\u001b[0m\u001b[0marm\u001b[0m\u001b[1;33m)\u001b[0m\u001b[1;33m)\u001b[0m\u001b[1;33m)\u001b[0m\u001b[1;33m\u001b[0m\u001b[1;33m\u001b[0m\u001b[0m\n",
      "\u001b[1;31mValueError\u001b[0m: invalid literal for int() with base 10: ''"
     ]
    }
   ],
   "metadata": {}
  },
  {
   "cell_type": "markdown",
   "source": [
    "### Example estimation\n",
    "Below is an example interaction that tries to estimate the best arm of a 10-armed bandit from 100 samples."
   ],
   "metadata": {
    "deletable": false,
    "editable": false,
    "nbgrader": {
     "checksum": "d52232788b578d130afb0a31a3a72d11",
     "grade": false,
     "grade_id": "cell-85d2324c09175d8e",
     "locked": true,
     "schema_version": 1,
     "solution": false
    }
   }
  },
  {
   "cell_type": "code",
   "execution_count": null,
   "source": [
    "# Example interaction\r\n",
    "num_arms = 10\r\n",
    "mab = MultiArmedBandit(num_arms)\r\n",
    "# Sample 100 random arms\r\n",
    "for _ in range(100):\r\n",
    "    action = np.random.choice(num_arms)\r\n",
    "    reward = mab.sample(action)\r\n",
    "\r\n",
    "# Get how many times arms were pulled and how much total reward was generated by those arms.\r\n",
    "# Together these arrays represent the state of the MAB.\r\n",
    "state = mab.get_state()\r\n",
    "arms_rewards, arms_pulled = state\r\n",
    "# Get average reward per arm\r\n",
    "arms_average_reward = arms_rewards / arms_pulled\r\n",
    "\r\n",
    "# Inspect results\r\n",
    "best_arm, best_reward = -1, -10e3\r\n",
    "for i, average_reward in enumerate(arms_average_reward):\r\n",
    "    print('Arm {} yielded average reward: {:.3f}'.format(i, average_reward))\r\n",
    "    if average_reward > best_reward:\r\n",
    "        best_reward = average_reward\r\n",
    "        best_arm = i\r\n",
    "print('\\nWe think the best arm is arm {}'.format(best_arm))"
   ],
   "outputs": [],
   "metadata": {}
  },
  {
   "cell_type": "markdown",
   "source": [
    "The goal of this exercise is to get a feeling for this MAB problem. In order to do this, you're tasked with writing a strategy (policy) that maximises the expected reward, or - equivalently - mimises the expected regret (where the expectation is taken over multiple simulations where a new MAB is instantiated each time). Regret of a policy is defined here as: expected optimal reward - expected obtained reward. That is: it is the difference between how much reward an oracle that knows the optimal lever to pull would have obtained, and the reward the implemented policy obtains.\n",
    "\n",
    "Below a 'simulate_policies' function is provided that calculates this expected regret, given a policy (or list of policies for fair comparison of policies). A policy is a function that takes as input a state (in this case the tuple (arms_pulled, arms_rewards)), and outputs an action (in this case an integer in the interval [0, num_arms - 1] inclusive). Two example policies are provided: random, and a policy that starts random (we call this a burn-in period) and then proceeds to pull the lever it thinks is best based on the statistics gathered during the burn-in. \n",
    "\n",
    "This last policy is a very naive way to dealing with the exploration-exploitation trade-off: first we explore for a set number of samples, then we exploit for the rest of the budget. See if you can write a policy that improves over this one. Note that to really evaluate this well we need to run simulations very often, which might be infeasible given the time we want to spend on this notebook. If you get something that does approximately as well as this policy, consider it a success."
   ],
   "metadata": {
    "deletable": false,
    "editable": false,
    "nbgrader": {
     "checksum": "a09a92c5de85bcf0fa44b4c4575e700b",
     "grade": false,
     "grade_id": "cell-ef68c404eea507e6",
     "locked": true,
     "schema_version": 1,
     "solution": false
    }
   }
  },
  {
   "cell_type": "code",
   "execution_count": null,
   "source": [
    "def episode(policy, budget, mab=None, num_arms=10):\r\n",
    "    \"\"\"\r\n",
    "    Function used to simulate an episode. Takes as input a policy, and outputs regret.\r\n",
    "    \r\n",
    "    Args:\r\n",
    "        policy (callable): A function that takes as input a state tuple (arms_rewards, arms_pulled)\r\n",
    "            and outputs an integer in the interval [0, num_arms - 1] inclusive that represents the\r\n",
    "            action to take.\r\n",
    "        budget: number of samples to draw before an episode terminates. \r\n",
    "        \r\n",
    "    Returns:\r\n",
    "        average_regret (float): average regret over the episode.\r\n",
    "    \"\"\"\r\n",
    "    if mab is None:\r\n",
    "        mab = MultiArmedBandit(num_arms)\r\n",
    "    optimal_reward = np.max(mab.means) * budget\r\n",
    "    for _ in range(budget):\r\n",
    "        state = mab.get_state()\r\n",
    "        choice = policy(state)\r\n",
    "        mab.sample(choice)\r\n",
    "    total_reward = np.sum(mab.arms_rewards)\r\n",
    "    regret = (optimal_reward - total_reward)\r\n",
    "    return regret\r\n",
    "\r\n",
    "\r\n",
    "def simulate_policies(policies, num_arms=10, budget=1000, num_simulations=100):\r\n",
    "    \"\"\"\r\n",
    "    Args:\r\n",
    "        policies (callable or list of callables): A list of functions that each take as input a state \r\n",
    "            tuple (arms_rewards, arms_pulled) and output an integer in the interval [0, num_arms - 1] \r\n",
    "            inclusive that represents the action to take.\r\n",
    "        num_arms: number of arms on the MultiArmedBandit.\r\n",
    "        budget: number of samples to draw before an episode terminates.\r\n",
    "        num_simulations: number of episodes to average the results over.   \r\n",
    "        \r\n",
    "    Returns:\r\n",
    "        expected_regrets (list or float): list of expected regrets corresponding to the policies. Float\r\n",
    "            if a single policy was evaluated.\r\n",
    "    \"\"\"\r\n",
    "    if not isinstance(policies, list):\r\n",
    "        policies = [policies]\r\n",
    "    average_regrets = np.zeros(len(policies))\r\n",
    "    for _ in range(num_simulations):\r\n",
    "        mab = MultiArmedBandit(num_arms)\r\n",
    "        for i, policy in enumerate(policies):\r\n",
    "            if i > 0:\r\n",
    "                mab.reset()\r\n",
    "            regret = episode(policy, budget, mab)\r\n",
    "            average_regrets[i] += regret / num_simulations\r\n",
    "            \r\n",
    "    if len(average_regrets) == 1:\r\n",
    "        return average_regrets[0]\r\n",
    "    return list(average_regrets)\r\n",
    "\r\n",
    "\r\n",
    "def random_policy(state):\r\n",
    "    \"\"\"\r\n",
    "    Random policy.\r\n",
    "    \r\n",
    "    Args:\r\n",
    "        state (tuple): a tuple (arms_rewards, arms_pulled) representing the state of the MAB.\r\n",
    "            'arms_rewards' is a numpy array of length num_arms, that represents the total reward obtained\r\n",
    "            from pulling arms. 'arms_pulled' is a numpy array of the same length that represents the \r\n",
    "            number of times a particular arm was pulled.\r\n",
    "            \r\n",
    "    Returns:\r\n",
    "        action (int): integer in the interval [0, num_arms - 1] inclusive, representing the arm to pull.\r\n",
    "    \"\"\"\r\n",
    "    arms_rewards, arms_pulled = state\r\n",
    "    action = np.random.choice(len(arms_rewards))\r\n",
    "    return action\r\n",
    "\r\n",
    "\r\n",
    "def max_policy_with_burnin(state, burnin=100):\r\n",
    "    \"\"\"\r\n",
    "    Policy that selects random levers during a burn-in (exploration), followed by \r\n",
    "    exploitation of the optimal lever according to the gathered statistics.\r\n",
    "\r\n",
    "    Args:\r\n",
    "        state (tuple): a tuple (arms_rewards, arms_pulled) representing the state of the MAB.\r\n",
    "            'arms_rewards' is a numpy array of length num_arms, that represents the total reward obtained\r\n",
    "            from pulling arms. 'arms_pulled' is a numpy array of the same length that represents the \r\n",
    "            number of times a particular arm was pulled.\r\n",
    "            \r\n",
    "    Returns:\r\n",
    "        action (int): integer in the interval [0, num_arms - 1] inclusive, representing the arm to pull.\r\n",
    "    \"\"\"\r\n",
    "    arms_rewards, arms_pulled = state\r\n",
    "    if np.sum(arms_pulled) < burnin:\r\n",
    "        action = np.random.choice(len(arms_rewards))\r\n",
    "        return action\r\n",
    "    average_arm_reward = arms_rewards / arms_pulled\r\n",
    "    action = np.argmax(average_arm_reward)\r\n",
    "    return action\r\n",
    "\r\n",
    "policies = [random_policy, max_policy_with_burnin]\r\n",
    "random_policy_regret, max_policy_regret = simulate_policies(policies)\r\n",
    "print('Random policy regret: {:.2f}'.format(random_policy_regret))\r\n",
    "print('Max policy regret: {:.2f}'.format(max_policy_regret))"
   ],
   "outputs": [],
   "metadata": {
    "deletable": false,
    "editable": false,
    "nbgrader": {
     "checksum": "fc25ed0fe0ef4c1a71b958f48bcd4494",
     "grade": false,
     "grade_id": "cell-83ca914fa89aaca8",
     "locked": true,
     "schema_version": 1,
     "solution": false
    }
   }
  },
  {
   "cell_type": "code",
   "execution_count": null,
   "source": [
    "def my_policy(state):\n",
    "    \"\"\"\n",
    "    Args:\n",
    "        state (tuple): a tuple (arms_rewards, arms_pulled) representing the state of the MAB.\n",
    "            'arms_rewards' is a numpy array of length num_arms, that represents the total reward obtained\n",
    "            from pulling arms. 'arms_pulled' is a numpy array of the same length that represents the \n",
    "            number of times a particular arm was pulled.\n",
    "            \n",
    "    Returns:\n",
    "        action (int): integer in the interval [0, num_arms - 1] inclusive, representing the arm to pull.\n",
    "    \"\"\"\n",
    "    \n",
    "    arms_rewards, arms_pulled = state\n",
    "    \n",
    "    # YOUR CODE HERE\n",
    "    raise NotImplementedError()\n",
    "\n",
    "    return action\n",
    "\n",
    "policies = [my_policy, max_policy_with_burnin]\n",
    "my_policy_regret, max_policy_regret = simulate_policies(policies)\n",
    "print('My policy regret: {:.2f}'.format(my_policy_regret))\n",
    "print('Max policy regret: {:.2f}'.format(max_policy_regret))"
   ],
   "outputs": [],
   "metadata": {
    "deletable": false,
    "nbgrader": {
     "checksum": "2c91d82b9cb65d630061ed020afebe70",
     "grade": true,
     "grade_id": "cell-02b174a39f0c36fd",
     "locked": false,
     "points": 0,
     "schema_version": 1,
     "solution": true
    }
   }
  },
  {
   "cell_type": "code",
   "execution_count": null,
   "source": [],
   "outputs": [],
   "metadata": {}
  }
 ],
 "metadata": {
  "kernelspec": {
   "name": "python3",
   "display_name": "Python 3.9.6 64-bit ('RL': conda)"
  },
  "language_info": {
   "codemirror_mode": {
    "name": "ipython",
    "version": 3
   },
   "file_extension": ".py",
   "mimetype": "text/x-python",
   "name": "python",
   "nbconvert_exporter": "python",
   "pygments_lexer": "ipython3",
   "version": "3.9.6"
  },
  "interpreter": {
   "hash": "32b213399caea2741cc1fceb5d2b14423a1a2de0e6b529e6b27d5021fac87c62"
  }
 },
 "nbformat": 4,
 "nbformat_minor": 2
}